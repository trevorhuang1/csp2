{
 "cells": [
  {
   "cell_type": "code",
   "execution_count": 2,
   "metadata": {},
   "outputs": [
    {
     "name": "stdout",
     "output_type": "stream",
     "text": [
      "Guess the movie represented by these emojis:\n",
      "🦸‍♂️🦇\n",
      "Sorry, the correct answer was Batman.\n"
     ]
    }
   ],
   "source": [
    "#!pip install emoji\n",
    "from emoji import emojize\n",
    "import random\n",
    "\n",
    "\n",
    "# Define a dictionary with emojis as keys and movies as values\n",
    "emojis_movies = {\n",
    "    \"🦁👑\": \"The Lion King\",\n",
    "    \"🌊🐟\": \"Finding Nemo\",\n",
    "    \"🧙‍♂️📚\": \"Harry Potter\",\n",
    "    \"🍫🏭\": \"Willy Wonka and the Chocolate Factory\",\n",
    "    \"🟢👽\": \"Toy Story\",\n",
    "    \"🦸‍♂️🦇\": \"Batman\",\n",
    "}\n",
    "\n",
    "def select_random_emoji():\n",
    "    emoji = random.choice(list(emojis_movies.keys()))\n",
    "    return emoji\n",
    "\n",
    "def play_game():\n",
    "    emoji = select_random_emoji()\n",
    "    print(\"Guess the movie represented by these emojis:\")\n",
    "    print(emoji)\n",
    "    guess = input(\"Your guess: \")\n",
    "\n",
    "    if guess == emojis_movies[emoji]:\n",
    "        print(\"Congratulations! You guessed it right.\")\n",
    "    else:\n",
    "        print(f\"Sorry, the correct answer was {emojis_movies[emoji]}.\")\n",
    "\n",
    "# Play the game\n",
    "play_game()"
   ]
  }
 ],
 "metadata": {
  "kernelspec": {
   "display_name": "Python 3 (ipykernel)",
   "language": "python",
   "name": "python3"
  },
  "language_info": {
   "codemirror_mode": {
    "name": "ipython",
    "version": 3
   },
   "file_extension": ".py",
   "mimetype": "text/x-python",
   "name": "python",
   "nbconvert_exporter": "python",
   "pygments_lexer": "ipython3",
   "version": "3.10.12"
  }
 },
 "nbformat": 4,
 "nbformat_minor": 2
}

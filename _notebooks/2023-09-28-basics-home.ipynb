{
 "cells": [
  {
   "cell_type": "markdown",
   "metadata": {},
   "source": [
    "---\n",
    "layout: post\n",
    "title: Web Programming Basics\n",
    "description: An introduction to key topics in Web Programming\n",
    "courses: { compsci: { week: 5 } }\n",
    "type: ccc\n",
    "permalink: /basics/home\n",
    "comments: true\n",
    "---"
   ]
  },
  {
   "cell_type": "raw",
   "metadata": {},
   "source": [
    "{% include nav_basics.html %}\n"
   ]
  },
  {
   "cell_type": "markdown",
   "metadata": {},
   "source": [
    "# Review of Web Programming Basics"
   ]
  },
  {
   "cell_type": "markdown",
   "metadata": {},
   "source": [
    "# Review Of Programming Basics\n",
    "\n",
    "## Basics of HTML\n",
    "- I did all the requirements of the project but also decided to add my own version of a lorem ipsum program\n",
    "    - Thanksgiving themed lorem ipsum\n",
    "- I had no major issues when setting up the wireshark, although the javascript lorem ipsum does not display on the website even though it does on vscode\n",
    "\n",
    "## Basics of Javascript\n",
    "- I finally learned how to use math.random and math.floor when figuring out how to code this\n",
    "- Basically, the code just generates a random decimal between 0 and 1 and then multiplies by 100 and then flooring to get an int between 0-100\n",
    "- I actually forgot that I needed to use else if instead, but chatGPT helped me fix the error\n",
    "\n",
    "## DOM\n",
    "- I basically just reused the code from the html besides the lorem ipsum\n",
    "- I got the buttom to switch the links, but it didn't look display \"switched!\"\n",
    "\n",
    "## Datatypes\n",
    "- So for this hack, I decided to create an object that was missing stuff before adding it on by manipulating the arrays\n",
    "- I got the change to learn how to use splice\n",
    "- The biggest issue I faced was that when I wanted to print the original object, it was printing the updated one. I found the solution online where I just had to turn the string into a JSON file\n",
    "    - It essentially just took a \"snapshot\" of the function right before it was changed\n",
    "\n",
    "## Correcting Errors\n",
    "- I decided to just follow the instructions and change the code as needed\n",
    "- The only issue I faced was that when I was trying to use a for loop, I wasn't setting i = 0 so that was causing an error in the code. Thankfully, the error message helped me identify and fix the error"
   ]
  }
 ],
 "metadata": {
  "kernelspec": {
   "display_name": "Python 3",
   "language": "python",
   "name": "python3"
  },
  "language_info": {
   "name": "python",
   "version": "3.9.12"
  },
  "orig_nbformat": 4
 },
 "nbformat": 4,
 "nbformat_minor": 2
}
